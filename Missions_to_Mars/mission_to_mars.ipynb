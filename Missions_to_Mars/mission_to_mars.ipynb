{
 "cells": [
  {
   "cell_type": "code",
   "execution_count": 117,
   "metadata": {},
   "outputs": [],
   "source": [
    "import pandas as pd\n",
    "from bs4 import BeautifulSoup as bs\n",
    "import requests\n",
    "from splinter import Browser"
   ]
  },
  {
   "cell_type": "markdown",
   "metadata": {},
   "source": [
    "### Creating lists for article title and paragraphs"
   ]
  },
  {
   "cell_type": "code",
   "execution_count": 118,
   "metadata": {},
   "outputs": [],
   "source": [
    "from webdriver_manager.chrome import ChromeDriverManager\n",
    "\n",
    "\n",
    "def init_browser():\n",
    "    # @NOTE: Replace the path with your actual path to the chromedriver\n",
    "    executable_path = {'executable_path': ChromeDriverManager().install()}\n",
    "    return Browser(\"chrome\", **executable_path, headless=False)"
   ]
  },
  {
   "cell_type": "code",
   "execution_count": 119,
   "metadata": {},
   "outputs": [],
   "source": [
    "def scrape():\n",
    "    browser = init_browser()\n",
    "    articles = []\n",
    "    paragraphs = []\n",
    "    \n",
    "    url = 'https://mars.nasa.gov/news/?page=0&per_page=40&order=publish_date+desc%2Ccreated_at+desc&search=&category=19%2C165%2C184%2C204&blank_scope=Latest'\n",
    "    browser.visit(url)\n",
    "    \n",
    "    \n",
    "    html = browser.html\n",
    "    soup = bs(html, 'html.parser')\n",
    "    title_para = soup.find_all('li', class_ = 'slide')\n",
    "   \n",
    "    \n",
    "    for x in title_para:\n",
    "        try:\n",
    "            articles.append(x.find('div', class_ = 'content_title').find('a').text.strip())\n",
    "            paragraphs.append(x.find('div', class_='article_teaser_body').text.strip())\n",
    "\n",
    "        except:\n",
    "            print('no results')\n",
    "        \n",
    "    \n",
    "    \n",
    "    return paragraphs"
   ]
  },
  {
   "cell_type": "code",
   "execution_count": 120,
   "metadata": {
    "scrolled": true
   },
   "outputs": [
    {
     "name": "stderr",
     "output_type": "stream",
     "text": [
      "[WDM] - ====== WebDriver manager ======\n",
      "[WDM] - Current google-chrome version is 88.0.4324\n",
      "[WDM] - Get LATEST driver version for 88.0.4324\n"
     ]
    },
    {
     "name": "stdout",
     "output_type": "stream",
     "text": [
      "\n",
      "\n"
     ]
    },
    {
     "name": "stderr",
     "output_type": "stream",
     "text": [
      "[WDM] - Driver [C:\\Users\\Heesu Ha\\.wdm\\drivers\\chromedriver\\win32\\88.0.4324.96\\chromedriver.exe] found in cache\n"
     ]
    },
    {
     "data": {
      "text/plain": [
       "['The giant canopy that helped land Perseverance on Mars was tested here on Earth at NASA’s Wallops Flight Facility in Virginia.',\n",
       " 'A 360-degree panorama taken by the rover’s Mastcam-Z instrument will be discussed during a public video chat this Thursday.',\n",
       " 'When the Perseverance rover safely touched down on the Martian surface, inside Jezero Crater, on Feb. 18, 2021, it was also a safe landing for the nearly 11 million names on board.',\n",
       " 'The agency’s newest rover captured first-of-its kind footage of its Feb. 18 touchdown and has recorded audio of Martian wind.',\n",
       " 'First-of-its kind footage from the agency’s newest rover will be presented during a briefing this morning.',\n",
       " 'The technology demonstration has phoned home from where it is attached to the belly of NASA’s Perseverance rover.',\n",
       " 'The six-wheeled robot’s latest data since touching down yesterday include a hi-res image captured as the rover’s jetpack lowered it to the ground.',\n",
       " 'The agency’s latest and most complex mission to the Red Planet has touched down at Jezero Crater. Now it’s time to begin testing the health of the rover.',\n",
       " 'When the agency’s newest rover mission searches for fossilized microscopic life on the Red Planet, how will scientists know whether they’ve found it?',\n",
       " 'A tightly choreographed dance between NASA’s Deep Space Network and Mars orbiters will keep the agency’s Perseverance in touch with Earth during landing and beyond.',\n",
       " 'What to expect when the Mars 2020 Perseverance rover arrives at the Red Planet on Feb. 18, 2021.',\n",
       " 'Technology will collect critical data about the harsh entry environment during Perseverance’s entry next Thursday.',\n",
       " 'As dust collects on the solar panels and winter comes to Elysium Planitia, the team is following a plan to reduce science operations in order to keep the lander safe.',\n",
       " 'Mark your calendars for live landing commentary, news briefings, livestreamed Q&As, virtual watch parties, student activities, and more.',\n",
       " 'How two new technologies will help Perseverance, NASA’s most sophisticated rover yet, touch down onto the surface of Mars this month.',\n",
       " 'A new NASA paper provides the most detailed map to date of near-surface water ice on the Red Planet.',\n",
       " 'Even as the Perseverance rover approaches Mars, technology on board is paying off on Earth.',\n",
       " 'The Martian moon Phobos orbits through a stream of charged atoms and molecules that flow off the Red Planet’s atmosphere, new research shows.',\n",
       " 'With a suite of new national and international spacecraft primed to explore the Red Planet after their arrival next month, NASA’s MAVEN mission is ready to provide support and continue its study of the Martian atmosphere.',\n",
       " 'Seven minutes of harrowing descent to the Red Planet is in the not-so-distant future for the agency’s Mars 2020 mission.',\n",
       " 'Ingenuity, a technology experiment, is preparing to attempt the first powered, controlled flight on the Red Planet.',\n",
       " 'NASA leadership and members of the mission will discuss the agency’s latest rover, which touches down on the Red Planet on Feb. 18.',\n",
       " 'The heat probe hasn’t been able to gain the friction it needs to dig, but the mission has been granted an extension to carry on with its other science.',\n",
       " 'Audio gathered by the mission may not sound quite the same on Mars as it would to our ears on Earth. A new interactive online experience lets you sample the difference.',\n",
       " 'As the rover has continued to ascend Mount Sharp, it’s found distinctive benchlike rock formations.',\n",
       " 'The rover touches down on the Red Planet next month, and students are invited to join the excitement by designing, building, and landing their own Mars mission. NASA can help.',\n",
       " 'The missions – Juno and InSight – have each increased our understanding of our solar system, as well as spurred new sets of diverse questions.',\n",
       " 'The Mars 2020 Perseverance rover, which has started its approach to the Red Planet, will help answer the next logical question in Mars exploration.',\n",
       " \"Marvels of engineering, the rover's sample tubes must be tough enough to safely bring Red Planet samples on the long journey back to Earth in immaculate condition.\",\n",
       " 'During this next phase, the program will mature critical technologies and make critical design decisions as well as assess industry partnerships.',\n",
       " 'Scientists are finding new mysteries since the geophysics mission landed two years ago.',\n",
       " 'Bill Allen has thrived as the mechanical systems design lead for three Mars rover missions, but he got his start as a teenager sorting letters for the NASA center.',\n",
       " \"The symbols, mottos, and small objects added to the agency's newest Mars rover serve a variety of purposes, from functional to decorative.\",\n",
       " \"NASA's Perseverance rover carries a device to convert Martian air into oxygen that, if produced on a larger scale, could be used not just for breathing, but also for fuel.\",\n",
       " \"The first to be rigged with microphones, the agency's latest Mars rover picked up the subtle sounds of its own inner workings during interplanetary flight.\",\n",
       " \"Sensors on NASA's Perseverance will help prepare for future human exploration by taking weather measurements and studying dust particles.\",\n",
       " 'Scientists using an instrument aboard NASA’s Mars Atmosphere and Volatile EvolutioN, or MAVEN, spacecraft have discovered that water vapor near the surface of the Red Planet is lofted higher into the atmosphere than anyone expected was possible.',\n",
       " 'The Mars rover has drilled three samples of rock in this clay-enriched region since arriving in July.',\n",
       " 'NASA released an independent review report Tuesday indicating the agency is well positioned for its Mars Sample Return campaign to bring pristine samples from Mars to Earth for scientific study.',\n",
       " \"Mark your calendars: The agency's latest rover has only about 8,640,000 seconds to go before it touches down on the Red Planet, becoming history's next Mars car.\"]"
      ]
     },
     "execution_count": 120,
     "metadata": {},
     "output_type": "execute_result"
    }
   ],
   "source": [
    "scrape()"
   ]
  },
  {
   "cell_type": "markdown",
   "metadata": {},
   "source": [
    "### Collecting image urls"
   ]
  },
  {
   "cell_type": "code",
   "execution_count": 137,
   "metadata": {},
   "outputs": [],
   "source": [
    "def scrape():\n",
    "    browser = init_browser()\n",
    "    image_url = []\n",
    "    \n",
    "    url = 'https://data-class-jpl-space.s3.amazonaws.com/JPL_Space/index.html'\n",
    "    browser.visit(url)\n",
    "    \n",
    "    \n",
    "    html = browser.html\n",
    "    soup = bs(html, 'html.parser')\n",
    "    container = soup.find('div', class_ = 'div1')\n",
    "    images = container.find_all('img')\n",
    "    \n",
    "    featured_image_url = 'https://data-class-jpl-space.s3.amazonaws.com/JPL_Space/' \n",
    "    \n",
    "    for image in images:\n",
    "        try:\n",
    "            image_url.append(featured_image_url + image['src'])\n",
    "\n",
    "        except:\n",
    "            print('no results')\n",
    "        \n",
    "    \n",
    "    \n",
    "    return image_url"
   ]
  },
  {
   "cell_type": "code",
   "execution_count": 138,
   "metadata": {},
   "outputs": [
    {
     "name": "stderr",
     "output_type": "stream",
     "text": [
      "[WDM] - ====== WebDriver manager ======\n",
      "[WDM] - Current google-chrome version is 88.0.4324\n",
      "[WDM] - Get LATEST driver version for 88.0.4324\n"
     ]
    },
    {
     "name": "stdout",
     "output_type": "stream",
     "text": [
      "\n",
      "\n"
     ]
    },
    {
     "name": "stderr",
     "output_type": "stream",
     "text": [
      "[WDM] - Driver [C:\\Users\\Heesu Ha\\.wdm\\drivers\\chromedriver\\win32\\88.0.4324.96\\chromedriver.exe] found in cache\n"
     ]
    },
    {
     "data": {
      "text/plain": [
       "['https://data-class-jpl-space.s3.amazonaws.com/JPL_Space/image/mars/Icaria Fossae7.jpg',\n",
       " 'https://data-class-jpl-space.s3.amazonaws.com/JPL_Space/image/mars/Proctor Crater Dunes 7.jpg',\n",
       " 'https://data-class-jpl-space.s3.amazonaws.com/JPL_Space/image/mars/Icaria Fossae7.jpg',\n",
       " 'https://data-class-jpl-space.s3.amazonaws.com/JPL_Space/image/mars/Proctor Crater Dunes 7.jpg',\n",
       " 'https://data-class-jpl-space.s3.amazonaws.com/JPL_Space/image/mars/Proctor Crater Dunes 7.jpg',\n",
       " 'https://data-class-jpl-space.s3.amazonaws.com/JPL_Space/image/mars/Icaria Fossae7.jpg',\n",
       " 'https://data-class-jpl-space.s3.amazonaws.com/JPL_Space/image/mars/Icaria Fossae.jpg',\n",
       " 'https://data-class-jpl-space.s3.amazonaws.com/JPL_Space/image/mars/Ariadnes Colles4.jpg',\n",
       " 'https://data-class-jpl-space.s3.amazonaws.com/JPL_Space/image/mars/Niger Vallis.jpg',\n",
       " 'https://data-class-jpl-space.s3.amazonaws.com/JPL_Space/image/mars/Proctor Crater Dunes.jpg',\n",
       " 'https://data-class-jpl-space.s3.amazonaws.com/JPL_Space/image/mars/Niger Vallis.jpg',\n",
       " 'https://data-class-jpl-space.s3.amazonaws.com/JPL_Space/image/mars/Daedalia Planum.jpg',\n",
       " 'https://data-class-jpl-space.s3.amazonaws.com/JPL_Space/image/mars/Sirenum Fossae.jpg',\n",
       " 'https://data-class-jpl-space.s3.amazonaws.com/JPL_Space/image/mars/Ariadnes Colles4.jpg',\n",
       " 'https://data-class-jpl-space.s3.amazonaws.com/JPL_Space/image/mars/South Polar Cap.jpg',\n",
       " 'https://data-class-jpl-space.s3.amazonaws.com/JPL_Space/image/mars/Daedalia Planum.jpg',\n",
       " 'https://data-class-jpl-space.s3.amazonaws.com/JPL_Space/image/mars/Ariadnes Colles3.jpg',\n",
       " 'https://data-class-jpl-space.s3.amazonaws.com/JPL_Space/image/mars/Atlantis Chaos.jpg',\n",
       " 'https://data-class-jpl-space.s3.amazonaws.com/JPL_Space/image/mars/Daedalia Planum.jpg',\n",
       " 'https://data-class-jpl-space.s3.amazonaws.com/JPL_Space/image/mars/Icaria Fossae.jpg',\n",
       " 'https://data-class-jpl-space.s3.amazonaws.com/JPL_Space/image/mars/Niger Vallis.jpg',\n",
       " 'https://data-class-jpl-space.s3.amazonaws.com/JPL_Space/image/mars/Proctor Crater Dunes.jpg',\n",
       " 'https://data-class-jpl-space.s3.amazonaws.com/JPL_Space/image/mars/Reull Vallis.jpg',\n",
       " 'https://data-class-jpl-space.s3.amazonaws.com/JPL_Space/image/mars/Ariadnes Colles3.jpg',\n",
       " 'https://data-class-jpl-space.s3.amazonaws.com/JPL_Space/image/mars/Sirenum Fossae.jpg',\n",
       " 'https://data-class-jpl-space.s3.amazonaws.com/JPL_Space/image/mars/South Polar Cap.jpg',\n",
       " 'https://data-class-jpl-space.s3.amazonaws.com/JPL_Space/image/mars/Niger Vallis.jpg',\n",
       " 'https://data-class-jpl-space.s3.amazonaws.com/JPL_Space/image/mars/Daedalia Planum.jpg',\n",
       " 'https://data-class-jpl-space.s3.amazonaws.com/JPL_Space/image/mars/Icaria Fossae.jpg',\n",
       " 'https://data-class-jpl-space.s3.amazonaws.com/JPL_Space/image/mars/Ariadnes Colles4.jpg',\n",
       " 'https://data-class-jpl-space.s3.amazonaws.com/JPL_Space/image/mars/South Polar Cap.jpg',\n",
       " 'https://data-class-jpl-space.s3.amazonaws.com/JPL_Space/image/mars/Daedalia Planum.jpg']"
      ]
     },
     "execution_count": 138,
     "metadata": {},
     "output_type": "execute_result"
    }
   ],
   "source": [
    "scrape()"
   ]
  },
  {
   "cell_type": "code",
   "execution_count": null,
   "metadata": {},
   "outputs": [],
   "source": []
  }
 ],
 "metadata": {
  "kernelspec": {
   "display_name": "Python [conda env:.conda-PythonData] *",
   "language": "python",
   "name": "conda-env-.conda-PythonData-py"
  },
  "language_info": {
   "codemirror_mode": {
    "name": "ipython",
    "version": 3
   },
   "file_extension": ".py",
   "mimetype": "text/x-python",
   "name": "python",
   "nbconvert_exporter": "python",
   "pygments_lexer": "ipython3",
   "version": "3.6.10"
  }
 },
 "nbformat": 4,
 "nbformat_minor": 4
}
